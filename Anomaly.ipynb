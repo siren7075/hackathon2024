{
 "cells": [
  {
   "cell_type": "code",
   "execution_count": 10,
   "id": "b811f7b4-3f19-40cc-af4d-bed4093ec130",
   "metadata": {},
   "outputs": [
    {
     "name": "stdout",
     "output_type": "stream",
     "text": [
      "Defaulting to user installation because normal site-packages is not writeable\n",
      "Looking in indexes: https://artifactory.awstrp.net/artifactory/api/pypi/pypi-release/simple/\n",
      "Collecting scikit-learn\n",
      "  Downloading https://artifactory.awstrp.net/artifactory/api/pypi/pypi-release/packages/packages/50/79/d21599fc44d2d497ced440480670b6314ebc00308e3bae0d0ebca44cd481/scikit_learn-1.6.0-cp310-cp310-manylinux_2_17_x86_64.manylinux2014_x86_64.whl (13.5 MB)\n",
      "\u001b[2K     \u001b[38;2;114;156;31m━━━━━━━━━━━━━━━━━━━━━━━━━━━━━━━━━━━━━━━━\u001b[0m \u001b[32m13.5/13.5 MB\u001b[0m \u001b[31m22.4 MB/s\u001b[0m eta \u001b[36m0:00:00\u001b[0m31m22.2 MB/s\u001b[0m eta \u001b[36m0:00:01\u001b[0m\n",
      "Requirement already satisfied: numpy>=1.19.5 in /home/develop/.local/lib/python3.10/site-packages (from scikit-learn) (2.1.1)\n",
      "Collecting scipy>=1.6.0 (from scikit-learn)\n",
      "  Downloading https://artifactory.awstrp.net/artifactory/api/pypi/pypi-release/packages/packages/47/78/b0c2c23880dd1e99e938ad49ccfb011ae353758a2dc5ed7ee59baff684c3/scipy-1.14.1-cp310-cp310-manylinux_2_17_x86_64.manylinux2014_x86_64.whl (41.2 MB)\n",
      "\u001b[2K     \u001b[38;2;114;156;31m━━━━━━━━━━━━━━━━━━━━━━━━━━━━━━━━━━━━━━━━\u001b[0m \u001b[32m41.2/41.2 MB\u001b[0m \u001b[31m32.5 MB/s\u001b[0m eta \u001b[36m0:00:00\u001b[0mm eta \u001b[36m0:00:01\u001b[0m0:01\u001b[0m\n",
      "Collecting joblib>=1.2.0 (from scikit-learn)\n",
      "  Downloading https://artifactory.awstrp.net/artifactory/api/pypi/pypi-release/packages/packages/91/29/df4b9b42f2be0b623cbd5e2140cafcaa2bef0759a00b7b70104dcfe2fb51/joblib-1.4.2-py3-none-any.whl (301 kB)\n",
      "Collecting threadpoolctl>=3.1.0 (from scikit-learn)\n",
      "  Downloading https://artifactory.awstrp.net/artifactory/api/pypi/pypi-release/packages/packages/4b/2c/ffbf7a134b9ab11a67b0cf0726453cedd9c5043a4fe7a35d1cefa9a1bcfb/threadpoolctl-3.5.0-py3-none-any.whl (18 kB)\n",
      "\u001b[33mWARNING: Error parsing dependencies of devscripts: Invalid version: '2.22.1ubuntu1'\u001b[0m\u001b[33m\n",
      "Installing collected packages: threadpoolctl, scipy, joblib, scikit-learn\n",
      "Successfully installed joblib-1.4.2 scikit-learn-1.6.0 scipy-1.14.1 threadpoolctl-3.5.0\n",
      "\n",
      "\u001b[1m[\u001b[0m\u001b[34;49mnotice\u001b[0m\u001b[1;39;49m]\u001b[0m\u001b[39;49m A new release of pip is available: \u001b[0m\u001b[31;49m24.2\u001b[0m\u001b[39;49m -> \u001b[0m\u001b[32;49m24.3.1\u001b[0m\n",
      "\u001b[1m[\u001b[0m\u001b[34;49mnotice\u001b[0m\u001b[1;39;49m]\u001b[0m\u001b[39;49m To update, run: \u001b[0m\u001b[32;49mpip install --upgrade pip\u001b[0m\n"
     ]
    }
   ],
   "source": [
    "!pip install scikit-learn"
   ]
  },
  {
   "cell_type": "code",
   "execution_count": 11,
   "id": "f12c8908-e776-44c4-bd67-a06ac92aafcb",
   "metadata": {},
   "outputs": [],
   "source": [
    "import pandas as pd"
   ]
  },
  {
   "cell_type": "code",
   "execution_count": 12,
   "id": "73ee1158-8b8c-41ee-a1f7-a0814f318db6",
   "metadata": {},
   "outputs": [],
   "source": [
    "hedge_data = pd.read_csv('extracteddata_202412110957.csv')"
   ]
  },
  {
   "cell_type": "code",
   "execution_count": 13,
   "id": "67904634-ddeb-4d70-ab29-a02abeeb630a",
   "metadata": {},
   "outputs": [],
   "source": [
    "fx_rate_data = pd.read_csv('fx_rate.csv')"
   ]
  },
  {
   "cell_type": "code",
   "execution_count": 14,
   "id": "30526b36-b3c2-41cf-b474-b71203b442da",
   "metadata": {},
   "outputs": [
    {
     "data": {
      "text/html": [
       "<div>\n",
       "<style scoped>\n",
       "    .dataframe tbody tr th:only-of-type {\n",
       "        vertical-align: middle;\n",
       "    }\n",
       "\n",
       "    .dataframe tbody tr th {\n",
       "        vertical-align: top;\n",
       "    }\n",
       "\n",
       "    .dataframe thead th {\n",
       "        text-align: right;\n",
       "    }\n",
       "</style>\n",
       "<table border=\"1\" class=\"dataframe\">\n",
       "  <thead>\n",
       "    <tr style=\"text-align: right;\">\n",
       "      <th></th>\n",
       "      <th>Id</th>\n",
       "      <th>TradingDayDate</th>\n",
       "      <th>sodhedgeusd</th>\n",
       "      <th>eoddhedgeusd</th>\n",
       "      <th>intradayforwardsusd</th>\n",
       "      <th>grouphedgeid</th>\n",
       "      <th>exposurecurrency</th>\n",
       "    </tr>\n",
       "  </thead>\n",
       "  <tbody>\n",
       "    <tr>\n",
       "      <th>0</th>\n",
       "      <td>2708</td>\n",
       "      <td>6/6/2024</td>\n",
       "      <td>-37252.91</td>\n",
       "      <td>-1.006704e+07</td>\n",
       "      <td>NaN</td>\n",
       "      <td>59</td>\n",
       "      <td>\"AED\"</td>\n",
       "    </tr>\n",
       "    <tr>\n",
       "      <th>1</th>\n",
       "      <td>2709</td>\n",
       "      <td>6/7/2024</td>\n",
       "      <td>-37252.91</td>\n",
       "      <td>-5.228530e+07</td>\n",
       "      <td>NaN</td>\n",
       "      <td>59</td>\n",
       "      <td>\"AED\"</td>\n",
       "    </tr>\n",
       "    <tr>\n",
       "      <th>2</th>\n",
       "      <td>2740</td>\n",
       "      <td>6/10/2024</td>\n",
       "      <td>-24955011.87</td>\n",
       "      <td>-1.910836e+06</td>\n",
       "      <td>NaN</td>\n",
       "      <td>59</td>\n",
       "      <td>\"AED\"</td>\n",
       "    </tr>\n",
       "    <tr>\n",
       "      <th>3</th>\n",
       "      <td>2773</td>\n",
       "      <td>6/11/2024</td>\n",
       "      <td>-36506.72</td>\n",
       "      <td>-4.040870e+08</td>\n",
       "      <td>NaN</td>\n",
       "      <td>59</td>\n",
       "      <td>\"AED\"</td>\n",
       "    </tr>\n",
       "    <tr>\n",
       "      <th>4</th>\n",
       "      <td>2774</td>\n",
       "      <td>6/12/2024</td>\n",
       "      <td>-36506.72</td>\n",
       "      <td>-4.042912e+08</td>\n",
       "      <td>NaN</td>\n",
       "      <td>59</td>\n",
       "      <td>\"AED\"</td>\n",
       "    </tr>\n",
       "  </tbody>\n",
       "</table>\n",
       "</div>"
      ],
      "text/plain": [
       "     Id TradingDayDate  sodhedgeusd  eoddhedgeusd  intradayforwardsusd  \\\n",
       "0  2708       6/6/2024    -37252.91 -1.006704e+07                  NaN   \n",
       "1  2709       6/7/2024    -37252.91 -5.228530e+07                  NaN   \n",
       "2  2740      6/10/2024 -24955011.87 -1.910836e+06                  NaN   \n",
       "3  2773      6/11/2024    -36506.72 -4.040870e+08                  NaN   \n",
       "4  2774      6/12/2024    -36506.72 -4.042912e+08                  NaN   \n",
       "\n",
       "   grouphedgeid exposurecurrency  \n",
       "0            59            \"AED\"  \n",
       "1            59            \"AED\"  \n",
       "2            59            \"AED\"  \n",
       "3            59            \"AED\"  \n",
       "4            59            \"AED\"  "
      ]
     },
     "execution_count": 14,
     "metadata": {},
     "output_type": "execute_result"
    }
   ],
   "source": [
    "hedge_data.head()"
   ]
  },
  {
   "cell_type": "code",
   "execution_count": 15,
   "id": "e7524a41-ee47-4909-be41-223cd45ac0bb",
   "metadata": {},
   "outputs": [
    {
     "name": "stdout",
     "output_type": "stream",
     "text": [
      "Outliers:\n",
      "         sodhedgeusd\n",
      "2      -2.495501e+07\n",
      "5      -8.897393e+07\n",
      "6      -2.289752e+07\n",
      "8      -6.865281e+07\n",
      "15      3.305021e+07\n",
      "...              ...\n",
      "525883 -2.033266e+07\n",
      "525892 -9.625452e+06\n",
      "525893 -3.610285e+07\n",
      "525894 -3.623309e+07\n",
      "525895  3.897232e+06\n",
      "\n",
      "[157566 rows x 1 columns]\n"
     ]
    }
   ],
   "source": [
    "import pandas as pd\n",
    "\n",
    "# Sample DataFrame\n",
    "data = hedge_data['sodhedgeusd']\n",
    "df = pd.DataFrame(data)\n",
    "\n",
    "# Calculate Q1 (25th percentile) and Q3 (75th percentile)\n",
    "Q1 = df['sodhedgeusd'].quantile(0.25)\n",
    "Q3 = df['sodhedgeusd'].quantile(0.75)\n",
    "\n",
    "# Calculate IQR\n",
    "IQR = Q3 - Q1\n",
    "\n",
    "# Define the lower and upper bounds for outliers\n",
    "lower_bound = Q1 - 1.5 * IQR\n",
    "upper_bound = Q3 + 1.5 * IQR\n",
    "\n",
    "# Identify outliers\n",
    "outliers = df[(df['sodhedgeusd'] < lower_bound) | (df['sodhedgeusd'] > upper_bound)]\n",
    "\n",
    "print(\"Outliers:\")\n",
    "print(outliers)"
   ]
  },
  {
   "cell_type": "code",
   "execution_count": 16,
   "id": "7b3f3ce4-3e49-4f34-bcff-69632552f6c6",
   "metadata": {},
   "outputs": [
    {
     "data": {
      "text/plain": [
       "525921"
      ]
     },
     "execution_count": 16,
     "metadata": {},
     "output_type": "execute_result"
    }
   ],
   "source": [
    "len(df)"
   ]
  },
  {
   "cell_type": "code",
   "execution_count": 18,
   "id": "fcab1988-511e-4974-9e6e-fbd98dc6dc5f",
   "metadata": {},
   "outputs": [
    {
     "data": {
      "text/html": [
       "<div>\n",
       "<style scoped>\n",
       "    .dataframe tbody tr th:only-of-type {\n",
       "        vertical-align: middle;\n",
       "    }\n",
       "\n",
       "    .dataframe tbody tr th {\n",
       "        vertical-align: top;\n",
       "    }\n",
       "\n",
       "    .dataframe thead th {\n",
       "        text-align: right;\n",
       "    }\n",
       "</style>\n",
       "<table border=\"1\" class=\"dataframe\">\n",
       "  <thead>\n",
       "    <tr style=\"text-align: right;\">\n",
       "      <th></th>\n",
       "      <th>effectiveDate</th>\n",
       "      <th>fxType</th>\n",
       "      <th>snapCode</th>\n",
       "      <th>rateType</th>\n",
       "      <th>fromCurrencyCode</th>\n",
       "      <th>toCurrencyCode</th>\n",
       "      <th>spotRate</th>\n",
       "    </tr>\n",
       "  </thead>\n",
       "  <tbody>\n",
       "    <tr>\n",
       "      <th>0</th>\n",
       "      <td>2024-09-11</td>\n",
       "      <td>SPOT</td>\n",
       "      <td>LN1500</td>\n",
       "      <td>BID</td>\n",
       "      <td>KRW</td>\n",
       "      <td>USD</td>\n",
       "      <td>0.000747</td>\n",
       "    </tr>\n",
       "    <tr>\n",
       "      <th>1</th>\n",
       "      <td>2024-09-11</td>\n",
       "      <td>SPOT</td>\n",
       "      <td>LN1500</td>\n",
       "      <td>BID</td>\n",
       "      <td>KRW</td>\n",
       "      <td>KRW</td>\n",
       "      <td>1.000000</td>\n",
       "    </tr>\n",
       "    <tr>\n",
       "      <th>2</th>\n",
       "      <td>2024-09-11</td>\n",
       "      <td>SPOT</td>\n",
       "      <td>LN1500</td>\n",
       "      <td>BID</td>\n",
       "      <td>KMF</td>\n",
       "      <td>USD</td>\n",
       "      <td>0.002239</td>\n",
       "    </tr>\n",
       "    <tr>\n",
       "      <th>3</th>\n",
       "      <td>2024-09-11</td>\n",
       "      <td>SPOT</td>\n",
       "      <td>LN1500</td>\n",
       "      <td>BID</td>\n",
       "      <td>KMF</td>\n",
       "      <td>KMF</td>\n",
       "      <td>1.000000</td>\n",
       "    </tr>\n",
       "    <tr>\n",
       "      <th>4</th>\n",
       "      <td>2024-09-11</td>\n",
       "      <td>SPOT</td>\n",
       "      <td>LN1500</td>\n",
       "      <td>BID</td>\n",
       "      <td>KGS</td>\n",
       "      <td>USD</td>\n",
       "      <td>0.011876</td>\n",
       "    </tr>\n",
       "  </tbody>\n",
       "</table>\n",
       "</div>"
      ],
      "text/plain": [
       "  effectiveDate fxType snapCode rateType fromCurrencyCode toCurrencyCode  \\\n",
       "0    2024-09-11   SPOT   LN1500      BID              KRW            USD   \n",
       "1    2024-09-11   SPOT   LN1500      BID              KRW            KRW   \n",
       "2    2024-09-11   SPOT   LN1500      BID              KMF            USD   \n",
       "3    2024-09-11   SPOT   LN1500      BID              KMF            KMF   \n",
       "4    2024-09-11   SPOT   LN1500      BID              KGS            USD   \n",
       "\n",
       "   spotRate  \n",
       "0  0.000747  \n",
       "1  1.000000  \n",
       "2  0.002239  \n",
       "3  1.000000  \n",
       "4  0.011876  "
      ]
     },
     "execution_count": 18,
     "metadata": {},
     "output_type": "execute_result"
    }
   ],
   "source": [
    "fx_rate_data.head()"
   ]
  },
  {
   "cell_type": "code",
   "execution_count": 24,
   "id": "f16cb33c-38b1-4de2-9aab-4c93ea1c126d",
   "metadata": {},
   "outputs": [],
   "source": [
    "hedge_data['exposurecurrency'] = [x.replace('\"', '') for x in hedge_data['exposurecurrency']]\n",
    "hedge_data['TradingDayDate'] = pd.to_datetime(hedge_data['TradingDayDate'], format='%m/%d/%Y').dt.strftime('%Y-%m-%d')"
   ]
  },
  {
   "cell_type": "code",
   "execution_count": 33,
   "id": "32a5fb9e-8503-4c23-82f2-5637b8c0ebc6",
   "metadata": {},
   "outputs": [
    {
     "data": {
      "text/plain": [
       "Index(['Id', 'TradingDayDate', 'sodhedgeusd', 'eoddhedgeusd',\n",
       "       'intradayforwardsusd', 'grouphedgeid', 'exposurecurrency'],\n",
       "      dtype='object')"
      ]
     },
     "execution_count": 33,
     "metadata": {},
     "output_type": "execute_result"
    }
   ],
   "source": [
    "#hedge_data.columns\n",
    "hedge_data.columns"
   ]
  },
  {
   "cell_type": "code",
   "execution_count": 35,
   "id": "c091ad52-10f2-409a-bf8e-f8955d992f88",
   "metadata": {},
   "outputs": [
    {
     "data": {
      "text/plain": [
       "Index(['effectiveDate', 'fxType', 'snapCode', 'rateType', 'fromCurrencyCode',\n",
       "       'toCurrencyCode', 'spotRate'],\n",
       "      dtype='object')"
      ]
     },
     "execution_count": 35,
     "metadata": {},
     "output_type": "execute_result"
    }
   ],
   "source": [
    "fx_rate_data.columns"
   ]
  },
  {
   "cell_type": "code",
   "execution_count": 37,
   "id": "fea069f5-5e17-4b65-90a8-039c0c0ced22",
   "metadata": {},
   "outputs": [],
   "source": [
    "fx_rate_data = fx_rate_data.rename(columns={'effectiveDate': 'TradingDayDate'})\n",
    "\n",
    "fx_rate_data = fx_rate_data.rename(columns={'toCurrencyCode': 'toCurrencyCode'})\n"
   ]
  },
  {
   "cell_type": "code",
   "execution_count": null,
   "id": "741ba8fc-2075-407c-88af-9515b8ddffaf",
   "metadata": {},
   "outputs": [],
   "source": [
    "merged_df = pd.merge(hedge_data, fx_rate_data, on=['TradingDayDate'], how='inner')\n",
    "\n",
    "print(merged_df)\n"
   ]
  },
  {
   "cell_type": "code",
   "execution_count": null,
   "id": "91808882-6d2c-4c42-8905-3382c75fb2e2",
   "metadata": {},
   "outputs": [],
   "source": [
    "merged_df.head()"
   ]
  },
  {
   "cell_type": "code",
   "execution_count": null,
   "id": "08e4e260-a7de-469e-9b3a-df9da89aafb9",
   "metadata": {},
   "outputs": [],
   "source": []
  }
 ],
 "metadata": {
  "kernelspec": {
   "display_name": "Python 3 (ipykernel)",
   "language": "python",
   "name": "python3"
  },
  "language_info": {
   "codemirror_mode": {
    "name": "ipython",
    "version": 3
   },
   "file_extension": ".py",
   "mimetype": "text/x-python",
   "name": "python",
   "nbconvert_exporter": "python",
   "pygments_lexer": "ipython3",
   "version": "3.10.12"
  }
 },
 "nbformat": 4,
 "nbformat_minor": 5
}
