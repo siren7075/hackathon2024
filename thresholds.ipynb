{
  "cells": [
    {
      "cell_type": "markdown",
      "metadata": {
        "id": "view-in-github",
        "colab_type": "text"
      },
      "source": [
        "<a href=\"https://colab.research.google.com/github/siren7075/hackathon2024/blob/main/thresholds.ipynb\" target=\"_parent\"><img src=\"https://colab.research.google.com/assets/colab-badge.svg\" alt=\"Open In Colab\"/></a>"
      ]
    },
    {
      "cell_type": "markdown",
      "source": [
        "Get Anomalies for SPOT, need to sort by date and group by currency"
      ],
      "metadata": {
        "id": "qB-fyZiSyFoA"
      }
    },
    {
      "cell_type": "code",
      "source": [
        "import pandas as pd\n",
        "from scipy import stats\n",
        "\n",
        "# Load the CSV data\n",
        "df = pd.read_csv('fx_rates_spot_forward_MID_3mo_fromUSD.csv')\n",
        "\n",
        "# Filter the DataFrame for fxType \"SPOT\"\n",
        "spot_df = df[df['fxType'] == 'SPOT']\n",
        "\n",
        "# Calculate percentage changes in exchange rates\n",
        "spot_df['percentage_change'] = spot_df['spotRate'].pct_change() * 100\n",
        "\n",
        "# Calculate mean and standard deviation of percentage changes\n",
        "mean_change = spot_df['percentage_change'].mean()\n",
        "std_dev_change = spot_df['percentage_change'].std()\n",
        "\n",
        "# Define thresholds using Z-score method\n",
        "k = 2  # Adjust k for strictness\n",
        "lower_threshold = mean_change - k * std_dev_change\n",
        "upper_threshold = mean_change + k * std_dev_change\n",
        "\n",
        "# Identify anomalies based on the thresholds\n",
        "spot_df['anomaly'] = ((spot_df['percentage_change'] < lower_threshold) |\n",
        "                       (spot_df['percentage_change'] > upper_threshold))\n",
        "\n",
        "# Display the results\n",
        "print(\"Dynamic Thresholds:\")\n",
        "print(f\"Lower Threshold: {lower_threshold:.2f}%\")\n",
        "print(f\"Upper Threshold: {upper_threshold:.2f}%\")\n",
        "print(\"\\nAnomalies based on dynamic thresholds:\")\n",
        "print(spot_df[spot_df['anomaly']][['effectiveDate', 'toCurrencyCode', 'spotRate', 'percentage_change']])"
      ],
      "metadata": {
        "id": "-HrntgQjwtAp",
        "outputId": "80a95d19-f134-4a11-b7c0-301c227e232d",
        "colab": {
          "base_uri": "https://localhost:8080/"
        }
      },
      "execution_count": 31,
      "outputs": [
        {
          "output_type": "stream",
          "name": "stdout",
          "text": [
            "Dynamic Thresholds:\n",
            "Lower Threshold: -470378.54%\n",
            "Upper Threshold: 543323.22%\n",
            "\n",
            "Anomalies based on dynamic thresholds:\n",
            "      effectiveDate toCurrencyCode  spotRate  percentage_change\n",
            "370      2024-09-11            IDR   15400.0       2.153282e+06\n",
            "812      2024-09-12            IDR   15430.0       2.162183e+06\n",
            "1296     2024-09-13            IDR   15400.0       2.169144e+06\n",
            "1716     2024-09-16            IDR   15400.0       2.175843e+06\n",
            "2585     2024-09-18            IDR   15335.0       2.167962e+06\n",
            "...             ...            ...       ...                ...\n",
            "26946    2024-12-05            IDR   15860.0       2.130057e+06\n",
            "27345    2024-12-06            IDR   15850.0       2.127842e+06\n",
            "27816    2024-12-09            IDR   15865.0       2.130887e+06\n",
            "28211    2024-12-10            IDR   15865.0       2.119385e+06\n",
            "28650    2024-12-11            IDR   15915.0       2.121927e+06\n",
            "\n",
            "[66 rows x 4 columns]\n"
          ]
        },
        {
          "output_type": "stream",
          "name": "stderr",
          "text": [
            "<ipython-input-31-5d0c2da4e342>:11: SettingWithCopyWarning: \n",
            "A value is trying to be set on a copy of a slice from a DataFrame.\n",
            "Try using .loc[row_indexer,col_indexer] = value instead\n",
            "\n",
            "See the caveats in the documentation: https://pandas.pydata.org/pandas-docs/stable/user_guide/indexing.html#returning-a-view-versus-a-copy\n",
            "  spot_df['percentage_change'] = spot_df['spotRate'].pct_change() * 100\n",
            "<ipython-input-31-5d0c2da4e342>:23: SettingWithCopyWarning: \n",
            "A value is trying to be set on a copy of a slice from a DataFrame.\n",
            "Try using .loc[row_indexer,col_indexer] = value instead\n",
            "\n",
            "See the caveats in the documentation: https://pandas.pydata.org/pandas-docs/stable/user_guide/indexing.html#returning-a-view-versus-a-copy\n",
            "  spot_df['anomaly'] = ((spot_df['percentage_change'] < lower_threshold) |\n"
          ]
        }
      ]
    },
    {
      "cell_type": "code",
      "source": [
        "import pandas as pd\n",
        "\n",
        "df = pd.read_csv('fx_rates_spot_forward_MID_3mo_fromUSD.csv')\n",
        "\n",
        "# example fxType \"SPOT\" and toCurrencyCode \"JPY\"\n",
        "filtered_df = df[(df['fxType'] == 'SPOT') & (df['toCurrencyCode'] == 'JPY')]\n",
        "\n",
        "mean_spot_rate = filtered_df['spotRate'].mean()\n",
        "std_spot_rate = filtered_df['spotRate'].std()\n",
        "\n",
        "# Define dynamic thresholds (e.g., mean ± 2 standard deviations)\n",
        "lower_threshold = mean_spot_rate - 2 * std_spot_rate\n",
        "upper_threshold = mean_spot_rate + 2 * std_spot_rate\n",
        "\n",
        "anomalies = filtered_df[(filtered_df['spotRate'] < lower_threshold) | (filtered_df['spotRate'] > upper_threshold)]\n",
        "\n",
        "print(\"Dynamic Thresholds:\")\n",
        "print(f\"Lower Threshold: {lower_threshold}\")\n",
        "print(f\"Upper Threshold: {upper_threshold}\")\n",
        "print(\"\\nAnomalies based on dynamic thresholds:\")\n",
        "print(anomalies[['effectiveDate', 'spotRate']])"
      ],
      "metadata": {
        "colab": {
          "base_uri": "https://localhost:8080/"
        },
        "id": "Qk2NZQPbjhJT",
        "outputId": "e874da8a-4ab1-4a4a-d999-96475d1b970f"
      },
      "execution_count": 23,
      "outputs": [
        {
          "output_type": "stream",
          "name": "stdout",
          "text": [
            "Dynamic Thresholds:\n",
            "Lower Threshold: 140.92620444027506\n",
            "Upper Threshold: 158.27425010517948\n",
            "\n",
            "Anomalies based on dynamic thresholds:\n",
            "     effectiveDate  spotRate\n",
            "1239    2024-09-13    140.42\n",
            "1708    2024-09-16    140.51\n"
          ]
        }
      ]
    },
    {
      "cell_type": "markdown",
      "source": [
        "Using ZScore"
      ],
      "metadata": {
        "id": "zQIO2akklqnU"
      }
    },
    {
      "cell_type": "code",
      "source": [
        "import pandas as pd\n",
        "from scipy import stats\n",
        "\n",
        "df = pd.read_csv('fx_rates_spot_forward_MID_3mo_fromUSD.csv')\n",
        "\n",
        "# example fxType \"SPOT\" and toCurrencyCode \"JPY\"\n",
        "filtered_df = df[(df['fxType'] == 'SPOT') & (df['toCurrencyCode'] == 'JPY')]\n",
        "\n",
        "filtered_df['z_score'] = stats.zscore(filtered_df['spotRate'])\n",
        "mean_z_score = filtered_df['z_score'].mean()\n",
        "std_z_score = filtered_df['z_score'].std()\n",
        "\n",
        "# For example, using mean ± 2 * std deviation of Z-scores\n",
        "dynamic_upper_threshold = mean_z_score + 2 * std_z_score\n",
        "dynamic_lower_threshold = mean_z_score - 2 * std_z_score\n",
        "\n",
        "outliers = filtered_df[(filtered_df['z_score'] > dynamic_upper_threshold) | (filtered_df['z_score'] < dynamic_lower_threshold)]\n",
        "\n",
        "print(\"Dynamic Thresholds:\")\n",
        "print(f\"Upper Threshold (Z-score): {dynamic_upper_threshold}\")\n",
        "print(f\"Lower Threshold (Z-score): {dynamic_lower_threshold}\")\n",
        "print(\"\\nOutliers based on dynamic Z-score thresholds:\")\n",
        "print(outliers[['effectiveDate', 'spotRate', 'z_score']])"
      ],
      "metadata": {
        "colab": {
          "base_uri": "https://localhost:8080/"
        },
        "id": "p8bM8NXxknbh",
        "outputId": "6ccd26ed-ca40-4902-82ad-762495d2ea15"
      },
      "execution_count": 26,
      "outputs": [
        {
          "output_type": "stream",
          "name": "stdout",
          "text": [
            "Dynamic Thresholds:\n",
            "Upper Threshold (Z-score): 2.0153258946231167\n",
            "Lower Threshold (Z-score): -2.015325894623114\n",
            "\n",
            "Outliers based on dynamic Z-score thresholds:\n",
            "     effectiveDate  spotRate   z_score\n",
            "1239    2024-09-13    140.42 -2.132938\n",
            "1708    2024-09-16    140.51 -2.112027\n"
          ]
        },
        {
          "output_type": "stream",
          "name": "stderr",
          "text": [
            "<ipython-input-26-329e9edb4153>:10: SettingWithCopyWarning: \n",
            "A value is trying to be set on a copy of a slice from a DataFrame.\n",
            "Try using .loc[row_indexer,col_indexer] = value instead\n",
            "\n",
            "See the caveats in the documentation: https://pandas.pydata.org/pandas-docs/stable/user_guide/indexing.html#returning-a-view-versus-a-copy\n",
            "  filtered_df['z_score'] = stats.zscore(filtered_df['spotRate'])\n"
          ]
        }
      ]
    }
  ],
  "metadata": {
    "colab": {
      "name": "Welcome To Colab",
      "provenance": [],
      "include_colab_link": true
    },
    "kernelspec": {
      "display_name": "Python 3",
      "name": "python3"
    }
  },
  "nbformat": 4,
  "nbformat_minor": 0
}